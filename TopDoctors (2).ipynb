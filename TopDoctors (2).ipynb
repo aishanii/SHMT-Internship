{
 "cells": [
  {
   "cell_type": "code",
   "execution_count": 17,
   "id": "e44be750",
   "metadata": {},
   "outputs": [
    {
     "name": "stderr",
     "output_type": "stream",
     "text": [
      "\n",
      "\n",
      "====== WebDriver manager ======\n",
      "Current google-chrome version is 92.0.4515\n",
      "Get LATEST driver version for 92.0.4515\n",
      "Driver [C:\\Users\\Admin\\.wdm\\drivers\\chromedriver\\win32\\92.0.4515.107\\chromedriver.exe] found in cache\n"
     ]
    },
    {
     "name": "stdout",
     "output_type": "stream",
     "text": [
      "                Name         Specialization     Clinic Photo\n",
      "0  Dr Bishi Al-Qarni  Maxillofacial surgeon  OK Clinic  None\n"
     ]
    }
   ],
   "source": [
    "from selenium import webdriver\n",
    "from webdriver_manager.chrome import ChromeDriverManager\n",
    "from selenium.webdriver.common.by import By\n",
    "\n",
    "driver = webdriver.Chrome(ChromeDriverManager().install())\n",
    "import pandas as pd\n",
    "import time\n",
    "import os\n",
    "\n",
    "#for j in range(2,11):\n",
    "    \n",
    "driver.get(\"https://www.topdoctors.com.sa/en/doctors/riyadh/riyadh/\")\n",
    "    \n",
    "names = driver.find_elements(By.XPATH,'//*[@id=\"provider_result\"]/ul/li[5]/article/div[1]/div/div[2]/div[2]/a/span') \n",
    "specs = driver.find_elements(By.XPATH,'//*[@id=\"provider_result\"]/ul/li[5]/article/div[1]/div/div[2]/div[2]/div/span')\n",
    "clinics=driver.find_elements(By.XPATH,'//*[@id=\"provider_result\"]/ul/li[5]/article/div[2]/div/div[1]/div/div[2]/button/span/span[2]/span/span[1]')\n",
    "\n",
    "nameList=[]\n",
    "specsList=[]\n",
    "clinicsList=[]\n",
    "\n",
    "\n",
    "for i in range(len(names)):\n",
    "    name = names[i].text\n",
    "    nameList.append(name)\n",
    "\n",
    "for i in range(len(specs)):\n",
    "    spec=specs[i].text\n",
    "    specsList.append(spec)\n",
    "    \n",
    "for i in range(len(clinics)):\n",
    "    clinic= clinics[i].text\n",
    "    clinicsList.append(clinic)\n",
    "    \n",
    "    \n",
    "images = driver.find_elements_by_tag_name('img')\n",
    "imglist=[]\n",
    "for image in images:\n",
    "    imgs=image.get_attribute('src')\n",
    "    imglist.append(imgs)\n",
    "\n",
    "    \n",
    "\n",
    "\n",
    "data_tuples = list(zip(nameList[0:],specsList[0:],clinicsList[0:],imglist[0:]))\n",
    "df = pd.DataFrame(data_tuples, columns=['Name','Specialization','Clinic','Photo'])\n",
    "\n",
    "print(df)\n",
    "    \n",
    "df.to_csv('Top_Doctors.csv', mode='a', header=False)\n",
    "   "
   ]
  },
  {
   "cell_type": "code",
   "execution_count": null,
   "id": "2f2eb892",
   "metadata": {},
   "outputs": [],
   "source": []
  }
 ],
 "metadata": {
  "kernelspec": {
   "display_name": "Python 3",
   "language": "python",
   "name": "python3"
  },
  "language_info": {
   "codemirror_mode": {
    "name": "ipython",
    "version": 3
   },
   "file_extension": ".py",
   "mimetype": "text/x-python",
   "name": "python",
   "nbconvert_exporter": "python",
   "pygments_lexer": "ipython3",
   "version": "3.8.8"
  }
 },
 "nbformat": 4,
 "nbformat_minor": 5
}
