{
 "cells": [
  {
   "cell_type": "code",
   "execution_count": 10,
   "id": "e44be750",
   "metadata": {},
   "outputs": [
    {
     "name": "stderr",
     "output_type": "stream",
     "text": [
      "\n",
      "\n",
      "====== WebDriver manager ======\n",
      "Current google-chrome version is 92.0.4515\n",
      "Get LATEST driver version for 92.0.4515\n",
      "Driver [C:\\Users\\Admin\\.wdm\\drivers\\chromedriver\\win32\\92.0.4515.107\\chromedriver.exe] found in cache\n"
     ]
    },
    {
     "name": "stdout",
     "output_type": "stream",
     "text": [
      "[None, None, None, None, None, None, None, None, 'https://www.topdoctors.com.sa/images/logos/topdoctors-sa-en.svg', 'https://staticprod.topdoctors.com.sa/provider/116379/image/profile/medium/yousef-yasin-1595401017', 'https://www.topdoctors.com.sa/_nuxt/img/td_icon.b05991e.png', 'https://staticprod.topdoctors.com.sa/provider/118260/image/profile/medium/mohamed-farahat-1601303906', 'https://staticprod.topdoctors.com.sa/provider/113958/image/profile/medium/haitham-badr-1588878980', 'https://www.topdoctors.com.sa/_nuxt/img/td_icon.b05991e.png', 'https://staticprod.topdoctors.com.sa/provider/111863/image/profile/medium/maad-alsaati-1587565019.png', 'https://www.topdoctors.com.sa/_nuxt/img/td_icon.b05991e.png', 'https://staticprod.topdoctors.com.sa/provider/115445/image/profile/medium/nader-al-kenani-1593936014.png', 'https://www.topdoctors.com.sa/_nuxt/img/td_icon.b05991e.png']\n",
      "Empty DataFrame\n",
      "Columns: [Name, Specialization, Clinic, Photo]\n",
      "Index: []\n"
     ]
    }
   ],
   "source": [
    "from selenium import webdriver\n",
    "from webdriver_manager.chrome import ChromeDriverManager\n",
    "\n",
    "driver = webdriver.Chrome(ChromeDriverManager().install())\n",
    "import pandas as pd\n",
    "import time\n",
    "import os\n",
    "\n",
    "#for j in range(2,11):\n",
    "    \n",
    "driver.get(\"https://www.topdoctors.com.sa/en/doctors/riyadh/riyadh/\")\n",
    "    \n",
    "names = driver.find_elements_by_class_name(\"has-text-info has-text-weight-bold mt-1 has-line-height-one has-mb\") \n",
    "specs = driver.find_elements_by_class_name(\"has-text-primary specialist-title has-mb is-ellipsis\")\n",
    "clinics=driver.find_elements_by_class_name(\"has-text-primary\")\n",
    "#images = driver.find_elements_by_tag_name('img')\n",
    "\n",
    "#imglist=[]\n",
    "nameList=[]\n",
    "specsList=[]\n",
    "clinicsList=[]\n",
    "\n",
    "\n",
    "for i in range(len(names)):\n",
    "    name = names[i].text\n",
    "    nameList.append(name)\n",
    "\n",
    "for i in range(len(specs)):\n",
    "    spec=specs[i].text\n",
    "    specsList.append(spec)\n",
    "    \n",
    "for i in range(len(clinics)):\n",
    "    clinic= clinics[i].text\n",
    "    clinicsList.append(clinic)\n",
    "    \n",
    "#for image in images:\n",
    "    #imgs=image.get_attribute('src')\n",
    "    #imglist.append(imgs)\n",
    "    \n",
    "images = driver.find_elements_by_tag_name('img')\n",
    "imglist=[]\n",
    "for image in images:\n",
    "    imgs=image.get_attribute('src')\n",
    "    imglist.append(imgs)\n",
    "\n",
    "    \n",
    "\n",
    "\n",
    "data_tuples = list(zip(nameList[0:],specsList[0:],clinicsList[0:],imglist[0:]))\n",
    "df = pd.DataFrame(data_tuples, columns=['Name','Specialization','Clinic','Photo'])\n",
    "\n",
    "print(df)\n",
    "    \n",
    "df.to_csv('TopDoctors.csv', mode='a', header=False)\n",
    "   "
   ]
  },
  {
   "cell_type": "code",
   "execution_count": null,
   "id": "2f2eb892",
   "metadata": {},
   "outputs": [],
   "source": []
  }
 ],
 "metadata": {
  "kernelspec": {
   "display_name": "Python 3",
   "language": "python",
   "name": "python3"
  },
  "language_info": {
   "codemirror_mode": {
    "name": "ipython",
    "version": 3
   },
   "file_extension": ".py",
   "mimetype": "text/x-python",
   "name": "python",
   "nbconvert_exporter": "python",
   "pygments_lexer": "ipython3",
   "version": "3.8.8"
  }
 },
 "nbformat": 4,
 "nbformat_minor": 5
}
